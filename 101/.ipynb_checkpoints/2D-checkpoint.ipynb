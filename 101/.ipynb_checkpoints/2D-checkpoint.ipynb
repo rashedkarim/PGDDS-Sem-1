{
 "cells": [
  {
   "cell_type": "code",
   "execution_count": null,
   "id": "da92c17e-a5fa-418d-bc19-db6cd433f092",
   "metadata": {},
   "outputs": [],
   "source": []
  }
 ],
 "metadata": {
  "kernelspec": {
   "display_name": "",
   "name": ""
  },
  "language_info": {
   "name": ""
  }
 },
 "nbformat": 4,
 "nbformat_minor": 5
}
